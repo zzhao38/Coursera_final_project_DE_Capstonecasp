{
 "cells": [
  {
   "cell_type": "code",
   "execution_count": 1,
   "id": "6d3fff88",
   "metadata": {},
   "outputs": [
    {
     "name": "stdout",
     "output_type": "stream",
     "text": [
      "Collecting mysql-connector-python\n",
      "  Downloading mysql_connector_python-8.0.33-cp38-cp38-win_amd64.whl (9.6 MB)\n",
      "Collecting protobuf<=3.20.3,>=3.11.0\n",
      "  Downloading protobuf-3.20.3-cp38-cp38-win_amd64.whl (904 kB)\n",
      "Installing collected packages: protobuf, mysql-connector-python\n",
      "Successfully installed mysql-connector-python-8.0.33 protobuf-3.20.3\n"
     ]
    }
   ],
   "source": [
    "!pip install mysql-connector-python"
   ]
  },
  {
   "cell_type": "code",
   "execution_count": 3,
   "id": "7acbf1e0",
   "metadata": {
    "scrolled": true
   },
   "outputs": [
    {
     "name": "stdout",
     "output_type": "stream",
     "text": [
      "Collecting mysql-connector\n",
      "  Using cached mysql-connector-2.2.9.tar.gz (11.9 MB)\n",
      "Building wheels for collected packages: mysql-connector\n",
      "  Building wheel for mysql-connector (setup.py): started\n",
      "  Building wheel for mysql-connector (setup.py): finished with status 'done'\n",
      "  Created wheel for mysql-connector: filename=mysql_connector-2.2.9-cp38-cp38-win_amd64.whl size=247943 sha256=98bfa30dff2d192a5358236659e4e867a305769bccf35121d391e22df89b37ce\n",
      "  Stored in directory: c:\\users\\amazi\\appdata\\local\\pip\\cache\\wheels\\57\\e4\\98\\5feafb5c393dd2540e44b064a6f95832990d543e5b4f53ea8f\n",
      "Successfully built mysql-connector\n",
      "Installing collected packages: mysql-connector\n",
      "Successfully installed mysql-connector-2.2.9\n"
     ]
    }
   ],
   "source": [
    "!pip install --upgrade mysql-connector"
   ]
  },
  {
   "cell_type": "code",
   "execution_count": 9,
   "id": "82b953ae",
   "metadata": {},
   "outputs": [],
   "source": [
    "import mysql.connector as connector\n",
    "\n",
    "connection=connector.connect(user=\"root\",password=\"zztm\")"
   ]
  },
  {
   "cell_type": "code",
   "execution_count": 10,
   "id": "79612620",
   "metadata": {},
   "outputs": [],
   "source": [
    "cursor = connection.cursor()"
   ]
  },
  {
   "cell_type": "code",
   "execution_count": 11,
   "id": "91b5f29d",
   "metadata": {},
   "outputs": [],
   "source": [
    "cursor.execute(\"CREATE DATABASE little_lemon_db\") "
   ]
  },
  {
   "cell_type": "code",
   "execution_count": 12,
   "id": "40d0631c",
   "metadata": {},
   "outputs": [],
   "source": [
    "cursor.execute(\"USE little_lemon_db\")"
   ]
  },
  {
   "cell_type": "code",
   "execution_count": 13,
   "id": "65d3b5d5",
   "metadata": {},
   "outputs": [],
   "source": [
    "#MenuItems table\n",
    "create_menuitem_table = \"\"\"CREATE TABLE MenuItems (\n",
    "ItemID INT AUTO_INCREMENT,\n",
    "Name VARCHAR(200),\n",
    "Type VARCHAR(100),\n",
    "Price INT,\n",
    "PRIMARY KEY (ItemID)\n",
    ");\"\"\""
   ]
  },
  {
   "cell_type": "code",
   "execution_count": 14,
   "id": "f511d6bf",
   "metadata": {},
   "outputs": [],
   "source": [
    "create_menu_table = \"\"\"CREATE TABLE Menus (\n",
    "MenuID INT,\n",
    "ItemID INT,\n",
    "Cuisine VARCHAR(100),\n",
    "PRIMARY KEY (MenuID,ItemID)\n",
    ");\"\"\""
   ]
  },
  {
   "cell_type": "code",
   "execution_count": 19,
   "id": "7f9acb10",
   "metadata": {},
   "outputs": [],
   "source": [
    "create_booking_table = \"\"\"CREATE TABLE Bookings (\n",
    "BookingID INT AUTO_INCREMENT,\n",
    "TableNo INT,\n",
    "GuestFirstName VARCHAR(100) NOT NULL,\n",
    "GuestLastName VARCHAR(100) NOT NULL,\n",
    "BookingSlot TIME NOT NULL,\n",
    "EmployeeID INT,\n",
    "PRIMARY KEY (BookingID)\n",
    ");\"\"\""
   ]
  },
  {
   "cell_type": "code",
   "execution_count": 16,
   "id": "a9d4fe0c",
   "metadata": {},
   "outputs": [],
   "source": [
    "create_orders_table = \"\"\"CREATE TABLE Orders (\n",
    "OrderID INT,\n",
    "TableNo INT,\n",
    "MenuID INT,\n",
    "BookingID INT,\n",
    "BillAmount INT,\n",
    "Quantity INT,\n",
    "PRIMARY KEY (OrderID,TableNo)\n",
    ");\"\"\""
   ]
  },
  {
   "cell_type": "code",
   "execution_count": 39,
   "id": "c2938851",
   "metadata": {},
   "outputs": [],
   "source": [
    "create_employees_table = \"\"\"CREATE TABLE Employees (\n",
    "EmployeeID INT AUTO_INCREMENT,\n",
    "Name VARCHAR(100),\n",
    "Role VARCHAR(100),\n",
    "Address VARCHAR(100),\n",
    "Contact_Number INT,\n",
    "Email VARCHAR(100),\n",
    "Annual_Salary VARCHAR(100),\n",
    "PRIMARY KEY (EmployeeID)\n",
    ");\"\"\""
   ]
  },
  {
   "cell_type": "code",
   "execution_count": 40,
   "id": "d63b32b6",
   "metadata": {},
   "outputs": [],
   "source": [
    "# Create MenuItems table\n",
    "# cursor.execute(create_menuitem_table)\n",
    "\n",
    "# Create Menu table\n",
    "# cursor.execute(create_menu_table)\n",
    "\n",
    "# Create Bookings table\n",
    "# cursor.execute(Create_booking_table)\n",
    "\n",
    "# Create Orders table\n",
    "# cursor.execute(create_orders_table)\n",
    "\n",
    "# Create Employees table\n",
    "cursor.execute(create_employees_table)"
   ]
  },
  {
   "cell_type": "code",
   "execution_count": 23,
   "id": "0942dc3d",
   "metadata": {},
   "outputs": [],
   "source": [
    "#*******************************************************#\n",
    "# Insert query to populate \"MenuItems\" table:\n",
    "#*******************************************************#\n",
    "insert_menuitems=\"\"\"\n",
    "INSERT INTO MenuItems (ItemID, Name, Type, Price)\n",
    "VALUES\n",
    "(1, 'Olives','Starters',5),\n",
    "(2, 'Flatbread','Starters', 5),\n",
    "(3, 'Minestrone', 'Starters', 8),\n",
    "(4, 'Tomato bread','Starters', 8),\n",
    "(5, 'Falafel', 'Starters', 7),\n",
    "(6, 'Hummus', 'Starters', 5),\n",
    "(7, 'Greek salad', 'Main Courses', 15),\n",
    "(8, 'Bean soup', 'Main Courses', 12),\n",
    "(9, 'Pizza', 'Main Courses', 15),\n",
    "(10, 'Greek yoghurt','Desserts', 7),\n",
    "(11, 'Ice cream', 'Desserts', 6),\n",
    "(12, 'Cheesecake', 'Desserts', 4),\n",
    "(13, 'Athens White wine', 'Drinks', 25),\n",
    "(14, 'Corfu Red Wine', 'Drinks', 30),\n",
    "(15, 'Turkish Coffee', 'Drinks', 10),\n",
    "(16, 'Turkish Coffee', 'Drinks', 10),\n",
    "(17, 'Kabasa', 'Main Courses', 17);\"\"\"\n",
    "\n",
    "#*******************************************************#\n",
    "# Insert query to populate \"Menu\" table:\n",
    "#*******************************************************#\n",
    "insert_menu=\"\"\"\n",
    "INSERT INTO Menus (MenuID,ItemID,Cuisine)\n",
    "VALUES\n",
    "(1, 1, 'Greek'),\n",
    "(1, 7, 'Greek'),\n",
    "(1, 10, 'Greek'),\n",
    "(1, 13, 'Greek'),\n",
    "(2, 3, 'Italian'),\n",
    "(2, 9, 'Italian'),\n",
    "(2, 12, 'Italian'),\n",
    "(2, 15, 'Italian'),\n",
    "(3, 5, 'Turkish'),\n",
    "(3, 17, 'Turkish'),\n",
    "(3, 11, 'Turkish'),\n",
    "(3, 16, 'Turkish');\"\"\"\n",
    "\n",
    "#*******************************************************#\n",
    "# Insert query to populate \"Bookings\" table:\n",
    "#*******************************************************#\n",
    "insert_bookings=\"\"\"\n",
    "INSERT INTO Bookings (BookingID, TableNo, GuestFirstName, \n",
    "GuestLastName, BookingSlot, EmployeeID)\n",
    "VALUES\n",
    "(1, 12, 'Anna','Iversen','19:00:00',1),\n",
    "(2, 12, 'Joakim', 'Iversen', '19:00:00', 1),\n",
    "(3, 19, 'Vanessa', 'McCarthy', '15:00:00', 3),\n",
    "(4, 15, 'Marcos', 'Romero', '17:30:00', 4),\n",
    "(5, 5, 'Hiroki', 'Yamane', '18:30:00', 2),\n",
    "(6, 8, 'Diana', 'Pinto', '20:00:00', 5);\"\"\"\n",
    "\n",
    "#*******************************************************#\n",
    "# Insert query to populate \"Orders\" table:\n",
    "#*******************************************************#\n",
    "insert_orders=\"\"\"\n",
    "INSERT INTO Orders (OrderID, TableNo, MenuID, BookingID, Quantity, BillAmount)\n",
    "VALUES\n",
    "(1, 12, 1, 1, 2, 86),\n",
    "(2, 19, 2, 2, 1, 37),\n",
    "(3, 15, 2, 3, 1, 37),\n",
    "(4, 5, 3, 4, 1, 40),\n",
    "(5, 8, 1, 5, 1, 43);\"\"\"\n",
    "\n",
    "#*******************************************************#\n",
    "# Insert query to populate \"Employees\" table:\n",
    "#*******************************************************#\n",
    "# insert_employees = \"\"\"\n",
    "# INSERT INTO employees (EmployeeID, Name, Role, Address, Contact_Number, Email, Annual_Salary) VALUES\n",
    "# (01,'Mario Gollini','Manager','724, Parsley Lane, Old Town, Chicago, IL',351258074,'Mario.g@littlelemon.com','$70,000'),\n",
    "# (02,'Adrian Gollini','Assistant Manager','334, Dill Square, Lincoln Park, Chicago, IL',351474048,'Adrian.g@littlelemon.com','$65,000'),\n",
    "# (03,'Giorgos Dioudis','Head Chef','879 Sage Street, West Loop, Chicago, IL',351970582,'Giorgos.d@littlelemon.com','$50,000'),\n",
    "# (04,'Fatma Kaya','Assistant Chef','132  Bay Lane, Chicago, IL',351963569,'Fatma.k@littlelemon.com','$45,000'),\n",
    "# (05,'Elena Salvai','Head Waiter','989 Thyme Square, EdgeWater, Chicago, IL',351074198,'Elena.s@littlelemon.com','$40,000'),\n",
    "# (06,'John Millar','Receptionist','245 Dill Square, Lincoln Park, Chicago, IL',351584508,'John.m@littlelemon.com','$35,000');\"\"\"\n"
   ]
  },
  {
   "cell_type": "code",
   "execution_count": 43,
   "id": "62b9d037",
   "metadata": {},
   "outputs": [],
   "source": [
    "insert_employees = \"\"\"\n",
    "INSERT INTO employees (EmployeeID, Name, Role, Address, Contact_Number, Email, Annual_Salary) VALUES\n",
    "(01,'Mario Gollini','Manager','724, Parsley Lane, Old Town, Chicago, IL',351258074,'Mario.g@littlelemon.com','$70,000'),\n",
    "(02,'Adrian Gollini','Assistant Manager','334, Dill Square, Lincoln Park, Chicago, IL',351474048,'Adrian.g@littlelemon.com','$65,000'),\n",
    "(03,'Giorgos Dioudis','Head Chef','879 Sage Street, West Loop, Chicago, IL',351970582,'Giorgos.d@littlelemon.com','$50,000'),\n",
    "(04,'Fatma Kaya','Assistant Chef','132  Bay Lane, Chicago, IL',351963569,'Fatma.k@littlelemon.com','$45,000'),\n",
    "(05,'Elena Salvai','Head Waiter','989 Thyme Square, EdgeWater, Chicago, IL',351074198,'Elena.s@littlelemon.com','$40,000'),\n",
    "(06,'John Millar','Receptionist','245 Dill Square, Lincoln Park, Chicago, IL',351584508,'John.m@littlelemon.com','$35,000');\"\"\"\n"
   ]
  },
  {
   "cell_type": "code",
   "execution_count": 44,
   "id": "fcc8495f",
   "metadata": {
    "scrolled": false
   },
   "outputs": [],
   "source": [
    "# Populate MenuItems table\n",
    "# cursor.execute(insert_menuitems)\n",
    "# connection.commit()\n",
    "\n",
    "# # Populate MenuItems table\n",
    "# cursor.execute(insert_menu)\n",
    "# connection.commit()\n",
    "\n",
    "# # Populate Bookings table\n",
    "# cursor.execute(insert_bookings)\n",
    "# connection.commit()\n",
    "\n",
    "# Populate Orders table\n",
    "# cursor.execute(insert_orders)\n",
    "# connection.commit()\n",
    "\n",
    "# Populate Employees table\n",
    "cursor.execute(insert_employees)\n",
    "connection.commit()"
   ]
  },
  {
   "cell_type": "code",
   "execution_count": 46,
   "id": "00402d77",
   "metadata": {},
   "outputs": [],
   "source": [
    "dbconfig={\"database\":\"little_lemon_db\", \"user\":\"root\", \"password\":\"zztm\"}"
   ]
  },
  {
   "cell_type": "code",
   "execution_count": 48,
   "id": "feca8b95",
   "metadata": {},
   "outputs": [],
   "source": [
    "from mysql.connector import MySQLConnection, Error, pooling\n",
    "# Step 2: Create a connection pool\n",
    "try:\n",
    "  pool_a = pooling.MySQLConnectionPool(pool_name = \"pool_a\", pool_size = 2, **dbconfig)\n",
    "except Error as e:\n",
    "  print(f\"Error while connecting to MySQL using Connection pool: {str(e)}\")"
   ]
  },
  {
   "cell_type": "code",
   "execution_count": 49,
   "id": "e4715e2e",
   "metadata": {},
   "outputs": [],
   "source": [
    "# Step 3: Get a connection from the pool and create a cursor object\n",
    "try:\n",
    "  conn = pool_a.get_connection()\n",
    "  cursor = conn.cursor()\n",
    "except Error as e:\n",
    "  print(f\"Error while getting connection: {str(e)}\")"
   ]
  },
  {
   "cell_type": "code",
   "execution_count": 79,
   "id": "92a05dc7",
   "metadata": {},
   "outputs": [],
   "source": [
    "# Creating the SQL query for the stored procedure\n",
    "peakhour = \"\"\"\n",
    "CREATE PROCEDURE PeakHour()\n",
    "BEGIN\n",
    "SELECT HOUR(BookingSlot) as booking_hour, COUNT(*) as number_of_bookings\n",
    "FROM Bookings\n",
    "GROUP BY booking_hour\n",
    "ORDER BY number_of_bookings DESC;\n",
    "END\n",
    "\"\"\""
   ]
  },
  {
   "cell_type": "code",
   "execution_count": 80,
   "id": "ba08faef",
   "metadata": {},
   "outputs": [],
   "source": [
    "cursor.execute(peakhour)"
   ]
  },
  {
   "cell_type": "code",
   "execution_count": 96,
   "id": "1809afd5",
   "metadata": {
    "scrolled": true
   },
   "outputs": [
    {
     "data": {
      "text/plain": [
       "()"
      ]
     },
     "execution_count": 96,
     "metadata": {},
     "output_type": "execute_result"
    }
   ],
   "source": [
    "cursor.callproc('peakhour')"
   ]
  },
  {
   "cell_type": "code",
   "execution_count": 73,
   "id": "4694853c",
   "metadata": {
    "scrolled": true
   },
   "outputs": [
    {
     "name": "stdout",
     "output_type": "stream",
     "text": [
      "Error: Failed getting connection; pool exhausted\n"
     ]
    }
   ],
   "source": [
    "try:\n",
    "    connection = pool_a.get_connection()\n",
    "    cursor = connection.cursor()\n",
    "except Error as e:\n",
    "    print(\"Error:\", e)"
   ]
  },
  {
   "cell_type": "code",
   "execution_count": 97,
   "id": "0a6b4607",
   "metadata": {},
   "outputs": [],
   "source": [
    "results = next( cursor.stored_results() )"
   ]
  },
  {
   "cell_type": "code",
   "execution_count": 98,
   "id": "5973392b",
   "metadata": {
    "scrolled": false
   },
   "outputs": [],
   "source": [
    "dataset = results.fetchall()"
   ]
  },
  {
   "cell_type": "code",
   "execution_count": 99,
   "id": "9074804a",
   "metadata": {},
   "outputs": [],
   "source": [
    "for column_id in cursor.stored_results():\n",
    "    columns = [ column[0] for column in column_id.description ]"
   ]
  },
  {
   "cell_type": "code",
   "execution_count": 100,
   "id": "d8263ebb",
   "metadata": {},
   "outputs": [
    {
     "name": "stdout",
     "output_type": "stream",
     "text": [
      "['booking_hour', 'number_of_bookings']\n"
     ]
    }
   ],
   "source": [
    "print(columns)"
   ]
  },
  {
   "cell_type": "code",
   "execution_count": 102,
   "id": "0753c118",
   "metadata": {
    "scrolled": false
   },
   "outputs": [
    {
     "name": "stdout",
     "output_type": "stream",
     "text": [
      "['booking_hour', 'number_of_bookings']\n",
      "(19, 2)\n",
      "(15, 1)\n",
      "(17, 1)\n",
      "(18, 1)\n",
      "(20, 1)\n"
     ]
    }
   ],
   "source": [
    "print(columns)\n",
    "for data in dataset:\n",
    "    print(data)"
   ]
  },
  {
   "cell_type": "code",
   "execution_count": 121,
   "id": "e41ba2f5",
   "metadata": {},
   "outputs": [],
   "source": [
    "create_procedure_query = \"\"\"\n",
    "CREATE PROCEDURE GuestStatus_1()\n",
    "BEGIN\n",
    "    SELECT CONCAT(Bookings.GuestFirstName, ' ', Bookings.GuestLastName) AS guest_name,\n",
    "    CASE\n",
    "        WHEN employees.Role IN ('Manager', 'Assistant Manager') THEN 'Ready to pay'\n",
    "        WHEN employees.Role = 'Head Chef' THEN 'Ready to serve'\n",
    "        WHEN employees.Role = 'Assistant Chef' THEN 'Preparing Order'\n",
    "        WHEN employees.Role = 'Head Waiter' THEN 'Order served'\n",
    "    END AS order_status\n",
    "    FROM bookings\n",
    "    LEFT JOIN employees ON bookings.EmployeeID = employees.EmployeeID;\n",
    "END\n",
    "\"\"\""
   ]
  },
  {
   "cell_type": "code",
   "execution_count": 122,
   "id": "bdab1307",
   "metadata": {},
   "outputs": [],
   "source": [
    "cursor = connection.cursor()"
   ]
  },
  {
   "cell_type": "code",
   "execution_count": 123,
   "id": "a0b01895",
   "metadata": {},
   "outputs": [],
   "source": [
    "cursor.execute(create_procedure_query)"
   ]
  },
  {
   "cell_type": "code",
   "execution_count": 124,
   "id": "e5ff60fc",
   "metadata": {
    "scrolled": true
   },
   "outputs": [
    {
     "data": {
      "text/plain": [
       "()"
      ]
     },
     "execution_count": 124,
     "metadata": {},
     "output_type": "execute_result"
    }
   ],
   "source": [
    "\n",
    "cursor.callproc(\"GuestStatus_1\")"
   ]
  },
  {
   "cell_type": "code",
   "execution_count": 125,
   "id": "0b1839e7",
   "metadata": {},
   "outputs": [],
   "source": [
    "results_1 = next( cursor.stored_results() )"
   ]
  },
  {
   "cell_type": "code",
   "execution_count": 126,
   "id": "1bfdd6b6",
   "metadata": {},
   "outputs": [],
   "source": [
    "dataset_1 = results_1.fetchall()"
   ]
  },
  {
   "cell_type": "code",
   "execution_count": 127,
   "id": "a1197ef9",
   "metadata": {},
   "outputs": [],
   "source": [
    "for column_id in cursor.stored_results():\n",
    "    columns = [ column[0] for column in column_id.description ]"
   ]
  },
  {
   "cell_type": "code",
   "execution_count": 128,
   "id": "2fe1d547",
   "metadata": {},
   "outputs": [
    {
     "name": "stdout",
     "output_type": "stream",
     "text": [
      "['guest_name', 'order_status']\n"
     ]
    }
   ],
   "source": [
    "print(columns)"
   ]
  },
  {
   "cell_type": "code",
   "execution_count": 129,
   "id": "f518bb44",
   "metadata": {},
   "outputs": [
    {
     "name": "stdout",
     "output_type": "stream",
     "text": [
      "('Anna Iversen', 'Ready to pay')\n",
      "('Joakim Iversen', 'Ready to pay')\n",
      "('Vanessa McCarthy', 'Ready to serve')\n",
      "('Marcos Romero', 'Preparing Order')\n",
      "('Hiroki Yamane', 'Ready to pay')\n",
      "('Diana Pinto', 'Order served')\n"
     ]
    }
   ],
   "source": [
    "for data in dataset_1:\n",
    "    print(data)"
   ]
  },
  {
   "cell_type": "code",
   "execution_count": 158,
   "id": "8dcb93f2",
   "metadata": {},
   "outputs": [],
   "source": [
    "## Task 1"
   ]
  },
  {
   "cell_type": "code",
   "execution_count": 146,
   "id": "dd339f70",
   "metadata": {},
   "outputs": [],
   "source": [
    "\n",
    "dbconfig = {\n",
    "    \"host\": \"localhost\",\n",
    "    \"user\": \"root\",\n",
    "    \"password\": \"zztm\",\n",
    "    \"database\": \"little_lemon_db\"\n",
    "}"
   ]
  },
  {
   "cell_type": "code",
   "execution_count": 147,
   "id": "faef2b32",
   "metadata": {
    "scrolled": true
   },
   "outputs": [],
   "source": [
    "from mysql.connector import MySQLConnection, Error, pooling\n",
    "try:\n",
    "  pool_b = pooling.MySQLConnectionPool(pool_name = \"pool_b\", pool_size = 2, **dbconfig)\n",
    "except Error as e:\n",
    "  print(f\"Error while connecting to MySQL using Connection pool: {str(e)}\")"
   ]
  },
  {
   "cell_type": "code",
   "execution_count": 149,
   "id": "19f5027e",
   "metadata": {},
   "outputs": [],
   "source": [
    "try:\n",
    "  conn = pool_b.get_connection()\n",
    "  cursor = conn.cursor()\n",
    "except Error as e:\n",
    "  print(f\"Error while getting connection: {str(e)}\")"
   ]
  },
  {
   "cell_type": "code",
   "execution_count": 159,
   "id": "40931908",
   "metadata": {},
   "outputs": [],
   "source": [
    "## Task 2"
   ]
  },
  {
   "cell_type": "code",
   "execution_count": 151,
   "id": "3481925d",
   "metadata": {},
   "outputs": [],
   "source": [
    "query = \"INSERT INTO Bookings (TableNo, GuestFirstName, GuestLastName, BookingSlot, EmployeeID) VALUES (8, 'Anees', 'Java', '18:00', 6)\"\n",
    "cursor.execute(query)"
   ]
  },
  {
   "cell_type": "code",
   "execution_count": 152,
   "id": "5e6a373e",
   "metadata": {},
   "outputs": [],
   "source": [
    "query = \"INSERT INTO Bookings (TableNo, GuestFirstName, GuestLastName, BookingSlot, EmployeeID) VALUES (5, 'Bald', 'Vin', '19:00', 6)\"\n",
    "cursor.execute(query)"
   ]
  },
  {
   "cell_type": "code",
   "execution_count": 153,
   "id": "d15ff4b6",
   "metadata": {},
   "outputs": [],
   "source": [
    "query = \"INSERT INTO Bookings (TableNo, GuestFirstName, GuestLastName, BookingSlot, EmployeeID) VALUES (12, 'Jay', 'Kon', '19:30', 6)\"\n",
    "cursor.execute(query)"
   ]
  },
  {
   "cell_type": "code",
   "execution_count": 154,
   "id": "6a4eeb70",
   "metadata": {},
   "outputs": [],
   "source": [
    "try:\n",
    "    cursor.execute(query)\n",
    "    connection.commit()\n",
    "except pymysql.err.PoolError as e:\n",
    "    print(\"PoolError:\", e)"
   ]
  },
  {
   "cell_type": "code",
   "execution_count": 155,
   "id": "73bb93b0",
   "metadata": {},
   "outputs": [],
   "source": [
    "connection.commit()"
   ]
  },
  {
   "cell_type": "code",
   "execution_count": 157,
   "id": "b541b6fe",
   "metadata": {},
   "outputs": [],
   "source": [
    "## Task 3"
   ]
  },
  {
   "cell_type": "code",
   "execution_count": 160,
   "id": "dab65b15",
   "metadata": {},
   "outputs": [],
   "source": [
    "connection=connector.connect(\n",
    "                             user=\"root\",\n",
    "                             password=\"zztm\",\n",
    "                            )"
   ]
  },
  {
   "cell_type": "code",
   "execution_count": 161,
   "id": "6c22f0eb",
   "metadata": {},
   "outputs": [],
   "source": [
    "cursor = connection.cursor()"
   ]
  },
  {
   "cell_type": "code",
   "execution_count": 163,
   "id": "5192d872",
   "metadata": {},
   "outputs": [],
   "source": [
    "cursor.execute(\"USE little_lemon_db\")"
   ]
  },
  {
   "cell_type": "code",
   "execution_count": 164,
   "id": "c574d95a",
   "metadata": {
    "scrolled": true
   },
   "outputs": [
    {
     "data": {
      "text/plain": [
       "'little_lemon_db'"
      ]
     },
     "execution_count": 164,
     "metadata": {},
     "output_type": "execute_result"
    }
   ],
   "source": [
    "connection.database"
   ]
  },
  {
   "cell_type": "code",
   "execution_count": 167,
   "id": "e1f1142e",
   "metadata": {},
   "outputs": [
    {
     "name": "stdout",
     "output_type": "stream",
     "text": [
      "Manager_name:  Mario Gollini EmployeeID 1\n"
     ]
    }
   ],
   "source": [
    "sql_query = \"\"\"SELECT \n",
    "EmployeeID, Name\n",
    "FROM employees\n",
    "WHERE Role = 'Manager'\n",
    ";\"\"\"\n",
    "cursor.execute(sql_query)\n",
    "results = cursor.fetchall()\n",
    "for result in results:\n",
    "    print(\"Manager_name: \",result[1], \"EmployeeID\",result[0])"
   ]
  },
  {
   "cell_type": "code",
   "execution_count": 168,
   "id": "0b0a8448",
   "metadata": {},
   "outputs": [
    {
     "name": "stdout",
     "output_type": "stream",
     "text": [
      "Employee_name:  Mario Gollini EmployeeID 1\n"
     ]
    }
   ],
   "source": [
    "sql_query = \"\"\"SELECT \n",
    "EmployeeID, Name\n",
    "FROM employees\n",
    "WHERE Annual_Salary = (SELECT MAX(Annual_Salary) FROM employees)\n",
    ";\"\"\"\n",
    "cursor.execute(sql_query)\n",
    "results = cursor.fetchall()\n",
    "for result in results:\n",
    "    print(\"Employee_name: \",result[1], \"EmployeeID\",result[0])"
   ]
  },
  {
   "cell_type": "code",
   "execution_count": 169,
   "id": "e4e97781",
   "metadata": {
    "scrolled": true
   },
   "outputs": [
    {
     "name": "stdout",
     "output_type": "stream",
     "text": [
      "Count:  4\n"
     ]
    }
   ],
   "source": [
    "sql_query = \"\"\"SELECT \n",
    "COUNT(*)\n",
    "FROM Bookings\n",
    "WHERE HOUR(BookingSlot) between '18:00' and '20:00'\n",
    ";\"\"\"\n",
    "cursor.execute(sql_query)\n",
    "results = cursor.fetchall()\n",
    "for result in results:\n",
    "    print(\"Count: \",result[0])"
   ]
  },
  {
   "cell_type": "code",
   "execution_count": 170,
   "id": "c10d724d",
   "metadata": {},
   "outputs": [
    {
     "name": "stdout",
     "output_type": "stream",
     "text": [
      "guest_name:  Vanessa McCarthy Booking_ID 3 Booking_Slot 15:00:00\n",
      "guest_name:  Marcos Romero Booking_ID 4 Booking_Slot 17:30:00\n",
      "guest_name:  Hiroki Yamane Booking_ID 5 Booking_Slot 18:30:00\n",
      "guest_name:  Anna Iversen Booking_ID 1 Booking_Slot 19:00:00\n",
      "guest_name:  Joakim Iversen Booking_ID 2 Booking_Slot 19:00:00\n",
      "guest_name:  Diana Pinto Booking_ID 6 Booking_Slot 20:00:00\n"
     ]
    }
   ],
   "source": [
    "sql_query = \"\"\"SELECT \n",
    "CONCAT(Bookings.GuestFirstName, ' ', Bookings.GuestLastName) AS guest_name,\n",
    "BookingID,\n",
    "BookingSlot\n",
    "FROM Bookings\n",
    "ORDER BY BookingSlot\n",
    ";\"\"\"\n",
    "cursor.execute(sql_query)\n",
    "results = cursor.fetchall()\n",
    "for result in results:\n",
    "    print(\"guest_name: \",result[0], 'Booking_ID',result[1], 'Booking_Slot',result[2])"
   ]
  },
  {
   "cell_type": "code",
   "execution_count": 171,
   "id": "4ed58ec5",
   "metadata": {},
   "outputs": [],
   "source": [
    "# (OrderID, TableNo, MenuID, BookingID, Quantity, BillAmount)\n",
    "create_procedure_query = \"\"\"\n",
    "CREATE PROCEDURE BasicSalesReport()\n",
    "BEGIN\n",
    "    SELECT \n",
    "        SUM(BillAmount) AS total_sales,\n",
    "        AVG(BillAmount) AS average_sale,\n",
    "        MIN(BillAmount) AS minimum_bill_paid,\n",
    "        MAX(BillAmount) AS maximum_bill_paid\n",
    "    FROM \n",
    "        Orders;\n",
    "END\n",
    ";\"\"\"\n",
    "\n",
    "cursor.execute(create_procedure_query)\n",
    "cursor.callproc(\"BasicSalesReport\")\n",
    "results = next( cursor.stored_results() )\n"
   ]
  },
  {
   "cell_type": "code",
   "execution_count": 172,
   "id": "b4511db3",
   "metadata": {},
   "outputs": [],
   "source": [
    "dataset = results.fetchall()"
   ]
  },
  {
   "cell_type": "code",
   "execution_count": 173,
   "id": "2dbb2142",
   "metadata": {},
   "outputs": [],
   "source": [
    "for column_id in cursor.stored_results():\n",
    "    columns = [ column[0] for column in column_id.description ]"
   ]
  },
  {
   "cell_type": "code",
   "execution_count": 174,
   "id": "790f27c0",
   "metadata": {
    "scrolled": true
   },
   "outputs": [
    {
     "name": "stdout",
     "output_type": "stream",
     "text": [
      "['total_sales', 'average_sale', 'minimum_bill_paid', 'maximum_bill_paid']\n",
      "(Decimal('243'), Decimal('48.6000'), 37, 86)\n"
     ]
    }
   ],
   "source": [
    "print(columns)\n",
    "for data in dataset:\n",
    "    print(data)"
   ]
  },
  {
   "cell_type": "code",
   "execution_count": 175,
   "id": "db6d79ee",
   "metadata": {},
   "outputs": [],
   "source": [
    "try:\n",
    "  pool_c = pooling.MySQLConnectionPool(pool_name = \"pool_c\", pool_size = 3, **dbconfig)\n",
    "except Error as e:\n",
    "  print(f\"Error while connecting to MySQL using Connection pool: {str(e)}\")"
   ]
  },
  {
   "cell_type": "code",
   "execution_count": 176,
   "id": "4a5c7b3d",
   "metadata": {},
   "outputs": [],
   "source": [
    "connection1 = pool_c.get_connection()"
   ]
  },
  {
   "cell_type": "code",
   "execution_count": 178,
   "id": "dec04d54",
   "metadata": {},
   "outputs": [],
   "source": [
    "cursor = connection1.cursor(buffered=True)"
   ]
  },
  {
   "cell_type": "code",
   "execution_count": 184,
   "id": "de0ab028",
   "metadata": {},
   "outputs": [],
   "source": [
    "# Bookings (BookingID, TableNo, GuestFirstName, GuestLastName, BookingSlot, EmployeeID)\n",
    "# employees (EmployeeID, Name, Role)\n",
    "sql_query= \"\"\"\n",
    "SELECT\n",
    "    e.name as chef_name, CONCAT(b.GuestFirstName, ' ', b.GuestLastName) AS guest_name, b.BookingSlot\n",
    "FROM bookings b\n",
    "    left join employees e on b.EmployeeID = e.EmployeeID\n",
    "WHERE e.role Like '%Chef'\n",
    "ORDER BY b.BookingSlot ASC\n",
    "LIMIT 3\n",
    ";\"\"\""
   ]
  },
  {
   "cell_type": "code",
   "execution_count": 185,
   "id": "cacb83a1",
   "metadata": {},
   "outputs": [],
   "source": [
    "cursor.execute(sql_query)"
   ]
  },
  {
   "cell_type": "code",
   "execution_count": 186,
   "id": "5a329903",
   "metadata": {},
   "outputs": [],
   "source": [
    "results = cursor.fetchall()"
   ]
  },
  {
   "cell_type": "code",
   "execution_count": 187,
   "id": "0c00d3c8",
   "metadata": {},
   "outputs": [],
   "source": [
    "cols = cursor.column_names\n"
   ]
  },
  {
   "cell_type": "code",
   "execution_count": 188,
   "id": "b3930551",
   "metadata": {},
   "outputs": [
    {
     "name": "stdout",
     "output_type": "stream",
     "text": [
      "('Giorgos Dioudis', 'Vanessa McCarthy', datetime.timedelta(seconds=54000))\n",
      "('Fatma Kaya', 'Marcos Romero', datetime.timedelta(seconds=63000))\n"
     ]
    }
   ],
   "source": [
    "for result in results:\n",
    "    print(result)"
   ]
  },
  {
   "cell_type": "code",
   "execution_count": 189,
   "id": "fc6312a1",
   "metadata": {},
   "outputs": [],
   "source": [
    "connection1.close()"
   ]
  }
 ],
 "metadata": {
  "kernelspec": {
   "display_name": "Python 3",
   "language": "python",
   "name": "python3"
  },
  "language_info": {
   "codemirror_mode": {
    "name": "ipython",
    "version": 3
   },
   "file_extension": ".py",
   "mimetype": "text/x-python",
   "name": "python",
   "nbconvert_exporter": "python",
   "pygments_lexer": "ipython3",
   "version": "3.8.8"
  }
 },
 "nbformat": 4,
 "nbformat_minor": 5
}
